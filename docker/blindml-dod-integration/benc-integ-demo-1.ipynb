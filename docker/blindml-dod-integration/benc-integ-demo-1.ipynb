{
 "cells": [
  {
   "cell_type": "code",
   "execution_count": null,
   "id": "b9d3e590",
   "metadata": {},
   "outputs": [],
   "source": [
    "import test_dod_integ"
   ]
  },
  {
   "cell_type": "markdown",
   "id": "0de615bb",
   "metadata": {},
   "source": [
    "I'm going to ask the Data Station to make me a predictive model for converting US Zip codes to State names.\n",
    "\n",
    "I'll start with a small example of the mappings I want it to give me:"
   ]
  },
  {
   "cell_type": "code",
   "execution_count": null,
   "id": "ca11c314",
   "metadata": {},
   "outputs": [],
   "source": [
    "examples = [[\"98011\", \"California\"], [\"32804\", \"Florida\"]]"
   ]
  },
  {
   "cell_type": "markdown",
   "id": "08fa981a",
   "metadata": {},
   "source": [
    "The Data Station already knows about the Adventure Works dataset, which describes the operations of a company in about 60 different spreadsheets.\n",
    "\n",
    "I will ask the Data Station to generate a model for me based on the above examples:"
   ]
  },
  {
   "cell_type": "code",
   "execution_count": null,
   "id": "40e9e2b5",
   "metadata": {
    "scrolled": false
   },
   "outputs": [],
   "source": [
    "model = test_dod_integ.get_model_by_example(examples)"
   ]
  },
  {
   "cell_type": "markdown",
   "id": "bef866f0",
   "metadata": {},
   "source": [
    "Now I have a model that behaves like any other scikit-learn model:"
   ]
  },
  {
   "cell_type": "code",
   "execution_count": null,
   "id": "76fed37d",
   "metadata": {},
   "outputs": [],
   "source": [
    "model"
   ]
  },
  {
   "cell_type": "markdown",
   "id": "7e6926cd",
   "metadata": {},
   "source": [
    "and I can ask it to predict the state that it thinks zip code 90210 is in:"
   ]
  },
  {
   "cell_type": "code",
   "execution_count": null,
   "id": "96122c34",
   "metadata": {},
   "outputs": [],
   "source": [
    "import pandas as pd\n",
    "df = pd.DataFrame(data={\"PostalCode\": [\"90210\"]})\n",
    "df[\"PostalCode\"] = df[\"PostalCode\"].astype('category')\n",
    "model.predict(df)"
   ]
  },
  {
   "cell_type": "markdown",
   "id": "a5e5185b",
   "metadata": {},
   "source": [
    "HAHA! it's (probably) WRONG!\n",
    "\n",
    "But you can see that it somehow knows about Alberta, even though I never mentioned that in my training data set."
   ]
  },
  {
   "cell_type": "markdown",
   "id": "0328867a",
   "metadata": {},
   "source": [
    "Further:\n",
    "- various packaging/build issues that I've opened github issues for\n",
    "- need a dataset that works usefully to demonstrate both dod and blindml - this dataset is barely usable"
   ]
  },
  {
   "cell_type": "code",
   "execution_count": null,
   "id": "e15d579c",
   "metadata": {},
   "outputs": [],
   "source": []
  }
 ],
 "metadata": {
  "kernelspec": {
   "display_name": "Python 3",
   "language": "python",
   "name": "python3"
  },
  "language_info": {
   "codemirror_mode": {
    "name": "ipython",
    "version": 3
   },
   "file_extension": ".py",
   "mimetype": "text/x-python",
   "name": "python",
   "nbconvert_exporter": "python",
   "pygments_lexer": "ipython3",
   "version": "3.6.13"
  }
 },
 "nbformat": 4,
 "nbformat_minor": 5
}
