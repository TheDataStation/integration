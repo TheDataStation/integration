{
 "cells": [
  {
   "cell_type": "markdown",
   "id": "4b1a30b1",
   "metadata": {},
   "source": [
    "# The Data Station - BlindML and DoD component working together\n",
    "\n",
    "This notebook will use a couple of Data Station components to train a simple machine learning model based on examples, without revealing the training data to the end user."
   ]
  },
  {
   "cell_type": "markdown",
   "id": "01693fd3",
   "metadata": {},
   "source": [
    "First, the demo code:"
   ]
  },
  {
   "cell_type": "code",
   "execution_count": null,
   "id": "b9d3e590",
   "metadata": {},
   "outputs": [],
   "source": [
    "import blindml_dod_integ"
   ]
  },
  {
   "cell_type": "markdown",
   "id": "0de615bb",
   "metadata": {},
   "source": [
    "I'm going to ask the Data Station to make me a predictive model for converting US ZIP codes to State names.\n",
    "\n",
    "I'll start by giving a small example of the mappings I want the ML model to give me:"
   ]
  },
  {
   "cell_type": "code",
   "execution_count": null,
   "id": "ca11c314",
   "metadata": {},
   "outputs": [],
   "source": [
    "examples = [[\"98011\", \"California\"],\n",
    "            [\"32804\", \"Florida\"]]"
   ]
  },
  {
   "cell_type": "markdown",
   "id": "08fa981a",
   "metadata": {},
   "source": [
    "The Data Station already knows about the Adventure Works dataset, which describes the operations of a company in about 60 different spreadsheets. Unknown to the user, it's possible to combine some of the customer data from various sheets in that dataset to give ZIP code / State associations.\n",
    "\n",
    "I will ask the Data Station to generate a model for me based on the above examples. The following call will take around a minute to run, and will generate a lot of console output showing the inner workings of the DoD and BlindML components. This workings would not normally be accessible to an end user in this use case."
   ]
  },
  {
   "cell_type": "code",
   "execution_count": null,
   "id": "40e9e2b5",
   "metadata": {
    "scrolled": false
   },
   "outputs": [],
   "source": [
    "model = blindml_dod_integ.get_model_by_example(examples)"
   ]
  },
  {
   "cell_type": "markdown",
   "id": "bef866f0",
   "metadata": {},
   "source": [
    "When this has finished, you should see that the model was trained, but quite poorly with an accuracy of probably about 0.01 (i.e. 1%).\n",
    "\n",
    "Printing it out, you can see it's an instance of a scikit-learn model."
   ]
  },
  {
   "cell_type": "code",
   "execution_count": null,
   "id": "76fed37d",
   "metadata": {},
   "outputs": [],
   "source": [
    "model"
   ]
  },
  {
   "cell_type": "markdown",
   "id": "7e6926cd",
   "metadata": {},
   "source": [
    "You can interact with it in the same way as you would interact with any scikit-learn model.\n",
    "\n",
    "This code asks for a prediction of which state the 90210 zipcode lies in."
   ]
  },
  {
   "cell_type": "code",
   "execution_count": null,
   "id": "96122c34",
   "metadata": {},
   "outputs": [],
   "source": [
    "import pandas as pd\n",
    "df = pd.DataFrame(data={\"PostalCode\": [\"90210\"]})\n",
    "df[\"PostalCode\"] = df[\"PostalCode\"].astype('category')\n",
    "model.predict(df)"
   ]
  },
  {
   "cell_type": "markdown",
   "id": "a5e5185b",
   "metadata": {},
   "source": [
    "The model probably got that answer wrong. But it probably mentioned a state that wasn't in the initial training set: it has learned other state names from related data.\n",
    "\n",
    "If you scroll through the \"secret\" output above, you should see somewhere in the middle a table like this:\n",
    "\n",
    "```\n",
    "total views: 1\n",
    "Dataframe is    PostalCode            Name\n",
    "0       98011      Washington\n",
    "1       97205          Oregon\n",
    "2       55802       Minnesota\n",
    "3       75201           Texas\n",
    "4       94109      California\n",
    "..        ...             ...\n",
    "67      29577  South Carolina\n",
    "68      21201        Maryland\n",
    "69      57000         Moselle\n",
    "70       7001        Tasmania\n",
    "71      78000         Yveline\n",
    "```\n",
    "\n",
    "which shows that DoD component discovered 1 view of the data which looked like our examples. You can see two features which contribute to poor training:\n",
    "* in addition to ZIP codes, DoD found Australian and French postal codes\n",
    "* the discovered joined dataset only had 72 examples of training data\n",
    "\n",
    "If the Data Station had more data and was given more time, DoD would be able to find a much better model: for example, when loaded with some census data and given 15 minutes to train, it produces a model with >90% accuracy."
   ]
  }
 ],
 "metadata": {
  "kernelspec": {
   "display_name": "Python 3",
   "language": "python",
   "name": "python3"
  },
  "language_info": {
   "codemirror_mode": {
    "name": "ipython",
    "version": 3
   },
   "file_extension": ".py",
   "mimetype": "text/x-python",
   "name": "python",
   "nbconvert_exporter": "python",
   "pygments_lexer": "ipython3",
   "version": "3.6.13"
  }
 },
 "nbformat": 4,
 "nbformat_minor": 5
}
