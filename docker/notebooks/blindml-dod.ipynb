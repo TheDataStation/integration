{
 "cells": [
  {
   "cell_type": "markdown",
   "id": "4b1a30b1",
   "metadata": {},
   "source": [
    "# The Data Station - BlindML and DoD component working together\n",
    "\n",
    "This notebook will use a couple of Data Station components to train a simple machine learning model based on examples, without revealing the training data to the end user."
   ]
  },
  {
   "cell_type": "markdown",
   "id": "01693fd3",
   "metadata": {},
   "source": [
    "First, the demo code:"
   ]
  },
  {
   "cell_type": "code",
   "execution_count": 1,
   "id": "b9d3e590",
   "metadata": {},
   "outputs": [
    {
     "name": "stderr",
     "output_type": "stream",
     "text": [
      "/usr/local/lib/python3.6/site-packages/pandas/compat/__init__.py:120: UserWarning: Could not import the lzma module. Your installed Python is incomplete. Attempting to use lzma compression will result in a RuntimeError.\n",
      "  warnings.warn(msg)\n"
     ]
    }
   ],
   "source": [
    "import test_dod_integ"
   ]
  },
  {
   "cell_type": "markdown",
   "id": "0de615bb",
   "metadata": {},
   "source": [
    "I'm going to ask the Data Station to make me a predictive model for converting US ZIP codes to State names.\n",
    "\n",
    "I'll start by giving a small example of the mappings I want the ML model to give me:"
   ]
  },
  {
   "cell_type": "code",
   "execution_count": 3,
   "id": "ca11c314",
   "metadata": {},
   "outputs": [],
   "source": [
    "examples = [[\"98011\", \"California\"],\n",
    "            [\"32804\", \"Florida\"]]"
   ]
  },
  {
   "cell_type": "markdown",
   "id": "08fa981a",
   "metadata": {},
   "source": [
    "The Data Station already knows about the Adventure Works dataset, which describes the operations of a company in about 60 different spreadsheets. Unknown to the user, it's possible to combine some of the customer data from various sheets in that dataset to give ZIP code / State associations.\n",
    "\n",
    "I will ask the Data Station to generate a model for me based on the above examples. The following call will take around a minute to run, and will generate a lot of console output showing the inner workings of the DoD and BlindML components. This workings would not normally be accessible to an end user in this use case."
   ]
  },
  {
   "cell_type": "code",
   "execution_count": 4,
   "id": "40e9e2b5",
   "metadata": {
    "scrolled": false
   },
   "outputs": [
    {
     "name": "stderr",
     "output_type": "stream",
     "text": [
      "INFO:elasticsearch:GET http://localhost:9200/text/_search?filter_path=hits.hits._source.id%2Chits.hits._score%2Chits.total%2Chits.hits._source.dbName%2Chits.hits._source.sourceName%2Chits.hits._source.columnName%2Chits.hits.highlight.text [status:200 request:0.193s]\n",
      "INFO:elasticsearch:GET http://localhost:9200/text/_search?filter_path=hits.hits._source.id%2Chits.hits._score%2Chits.total%2Chits.hits._source.dbName%2Chits.hits._source.sourceName%2Chits.hits._source.columnName%2Chits.hits.highlight.text [status:200 request:0.013s]\n",
      "INFO:elasticsearch:GET http://localhost:9200/text/_search?filter_path=hits.hits._source.id%2Chits.hits._score%2Chits.total%2Chits.hits._source.dbName%2Chits.hits._source.sourceName%2Chits.hits._source.columnName%2Chits.hits.highlight.text [status:200 request:0.057s]\n",
      "INFO:elasticsearch:GET http://localhost:9200/text/_search?filter_path=hits.hits._source.id%2Chits.hits._score%2Chits.total%2Chits.hits._source.dbName%2Chits.hits._source.sourceName%2Chits.hits._source.columnName%2Chits.hits.highlight.text [status:200 request:0.014s]\n",
      "INFO:elasticsearch:GET http://localhost:9200/profile/_search?scroll=10m&filter_path=_scroll_id%2Chits.hits._id%2Chits.total%2Chits.hits._source.path [status:200 request:0.023s]\n",
      "INFO:elasticsearch:GET http://localhost:9200/profile/_search?scroll=10m&filter_path=_scroll_id%2Chits.hits._id%2Chits.total%2Chits.hits._source.path [status:200 request:0.007s]\n",
      "INFO:elasticsearch:GET http://localhost:9200/profile/_search?scroll=10m&filter_path=_scroll_id%2Chits.hits._id%2Chits.total%2Chits.hits._source.path [status:200 request:0.007s]\n",
      "INFO:elasticsearch:GET http://localhost:9200/profile/_search?scroll=10m&filter_path=_scroll_id%2Chits.hits._id%2Chits.total%2Chits.hits._source.path [status:200 request:0.006s]\n",
      "INFO:elasticsearch:GET http://localhost:9200/profile/_search?scroll=10m&filter_path=_scroll_id%2Chits.hits._id%2Chits.total%2Chits.hits._source.path [status:200 request:0.006s]\n",
      "INFO:elasticsearch:GET http://localhost:9200/profile/_search?scroll=10m&filter_path=_scroll_id%2Chits.hits._id%2Chits.total%2Chits.hits._source.path [status:200 request:0.007s]\n",
      "INFO:elasticsearch:GET http://localhost:9200/profile/_search?scroll=10m&filter_path=_scroll_id%2Chits.hits._id%2Chits.total%2Chits.hits._source.path [status:200 request:0.007s]\n",
      "INFO:elasticsearch:GET http://localhost:9200/profile/_search?scroll=10m&filter_path=_scroll_id%2Chits.hits._id%2Chits.total%2Chits.hits._source.path [status:200 request:0.008s]\n",
      "INFO:elasticsearch:GET http://localhost:9200/profile/_search?scroll=10m&filter_path=_scroll_id%2Chits.hits._id%2Chits.total%2Chits.hits._source.path [status:200 request:0.008s]\n"
     ]
    },
    {
     "name": "stdout",
     "output_type": "stream",
     "text": [
      "total views: 1\n",
      "Dataframe is    PostalCode            Name\n",
      "0       98011      Washington\n",
      "1       97205          Oregon\n",
      "2       55802       Minnesota\n",
      "3       75201           Texas\n",
      "4       94109      California\n",
      "..        ...             ...\n",
      "67      29577  South Carolina\n",
      "68      21201        Maryland\n",
      "69      57000         Moselle\n",
      "70       7001        Tasmania\n",
      "71      78000         Yveline\n",
      "\n",
      "[72 rows x 2 columns]\n",
      "Dataframe types are PostalCode    category\n",
      "Name          category\n",
      "dtype: object\n",
      "getting training data\n",
      "starting classification\n",
      "[WARNING] [2021-04-20 16:27:31,669:Client-EnsembleBuilder] No models better than random - using Dummy Score!Number of models besides current dummy model: 1. Number of dummy models: 1\n",
      "[WARNING] [2021-04-20 16:27:32,822:Client-EnsembleBuilder] No models better than random - using Dummy Score!Number of models besides current dummy model: 1. Number of dummy models: 1\n",
      "[WARNING] [2021-04-20 16:27:34,186:Client-EnsembleBuilder] No models better than random - using Dummy Score!Number of models besides current dummy model: 1. Number of dummy models: 1\n",
      "[WARNING] [2021-04-20 16:27:41,261:Client-EnsembleBuilder] No models better than random - using Dummy Score!Number of models besides current dummy model: 1. Number of dummy models: 1\n",
      "[WARNING] [2021-04-20 16:27:43,047:Client-EnsembleBuilder] No models better than random - using Dummy Score!Number of models besides current dummy model: 2. Number of dummy models: 1\n",
      "[WARNING] [2021-04-20 16:27:44,627:Client-EnsembleBuilder] No models better than random - using Dummy Score!Number of models besides current dummy model: 3. Number of dummy models: 1\n",
      "[WARNING] [2021-04-20 16:27:46,254:Client-EnsembleBuilder] No models better than random - using Dummy Score!Number of models besides current dummy model: 4. Number of dummy models: 1\n",
      "[WARNING] [2021-04-20 16:27:47,683:Client-EnsembleBuilder] No models better than random - using Dummy Score!Number of models besides current dummy model: 4. Number of dummy models: 1\n",
      "[WARNING] [2021-04-20 16:27:49,617:Client-EnsembleBuilder] No models better than random - using Dummy Score!Number of models besides current dummy model: 5. Number of dummy models: 1\n",
      "[WARNING] [2021-04-20 16:27:50,903:Client-EnsembleBuilder] No models better than random - using Dummy Score!Number of models besides current dummy model: 6. Number of dummy models: 1\n",
      "[WARNING] [2021-04-20 16:27:52,006:Client-EnsembleBuilder] No models better than random - using Dummy Score!Number of models besides current dummy model: 6. Number of dummy models: 1\n",
      "[WARNING] [2021-04-20 16:27:53,558:Client-EnsembleBuilder] No models better than random - using Dummy Score!Number of models besides current dummy model: 6. Number of dummy models: 1\n",
      "[WARNING] [2021-04-20 16:27:54,741:Client-EnsembleBuilder] No models better than random - using Dummy Score!Number of models besides current dummy model: 7. Number of dummy models: 1\n",
      "[WARNING] [2021-04-20 16:27:55,947:Client-EnsembleBuilder] No models better than random - using Dummy Score!Number of models besides current dummy model: 7. Number of dummy models: 1\n",
      "[WARNING] [2021-04-20 16:27:57,493:Client-EnsembleBuilder] No models better than random - using Dummy Score!Number of models besides current dummy model: 7. Number of dummy models: 1\n",
      "[WARNING] [2021-04-20 16:27:59,254:Client-EnsembleBuilder] No models better than random - using Dummy Score!Number of models besides current dummy model: 8. Number of dummy models: 1\n",
      "[WARNING] [2021-04-20 16:28:01,490:Client-EnsembleBuilder] No models better than random - using Dummy Score!Number of models besides current dummy model: 9. Number of dummy models: 1\n",
      "[WARNING] [2021-04-20 16:28:02,626:Client-EnsembleBuilder] No models better than random - using Dummy Score!Number of models besides current dummy model: 9. Number of dummy models: 1\n",
      "[WARNING] [2021-04-20 16:28:04,069:Client-EnsembleBuilder] No models better than random - using Dummy Score!Number of models besides current dummy model: 9. Number of dummy models: 1\n",
      "[WARNING] [2021-04-20 16:28:05,257:Client-EnsembleBuilder] No models better than random - using Dummy Score!Number of models besides current dummy model: 9. Number of dummy models: 1\n",
      "[WARNING] [2021-04-20 16:28:06,435:Client-EnsembleBuilder] No models better than random - using Dummy Score!Number of models besides current dummy model: 9. Number of dummy models: 1\n",
      "[WARNING] [2021-04-20 16:28:07,902:Client-EnsembleBuilder] No models better than random - using Dummy Score!Number of models besides current dummy model: 9. Number of dummy models: 1\n",
      "[WARNING] [2021-04-20 16:28:09,394:Client-EnsembleBuilder] No models better than random - using Dummy Score!Number of models besides current dummy model: 10. Number of dummy models: 1\n",
      "[WARNING] [2021-04-20 16:28:10,615:Client-EnsembleBuilder] No models better than random - using Dummy Score!Number of models besides current dummy model: 10. Number of dummy models: 1\n",
      "[WARNING] [2021-04-20 16:28:15,671:Client-EnsembleBuilder] No models better than random - using Dummy Score!Number of models besides current dummy model: 10. Number of dummy models: 1\n",
      "done with classification\n",
      "classifier is built\n",
      "Classifier accuracy: 0.017543859649122806\n",
      "test finished with accuracy 0.017543859649122806\n"
     ]
    }
   ],
   "source": [
    "model = test_dod_integ.get_model_by_example(examples)"
   ]
  },
  {
   "cell_type": "markdown",
   "id": "bef866f0",
   "metadata": {},
   "source": [
    "When this has finished, you should see that the model was trained, but quite poorly with an accuracy of probably about 0.01 (i.e. 1%).\n",
    "\n",
    "Printing it out, you can see it's an instance of a scikit-learn model."
   ]
  },
  {
   "cell_type": "code",
   "execution_count": 6,
   "id": "76fed37d",
   "metadata": {},
   "outputs": [
    {
     "data": {
      "text/plain": [
       "AutoSklearnClassifier(per_run_time_limit=6, time_left_for_this_task=60)"
      ]
     },
     "execution_count": 6,
     "metadata": {},
     "output_type": "execute_result"
    }
   ],
   "source": [
    "model"
   ]
  },
  {
   "cell_type": "markdown",
   "id": "7e6926cd",
   "metadata": {},
   "source": [
    "You can interact with it in the same way as you would interact with any scikit-learn model.\n",
    "\n",
    "This code asks for a prediction of which state the 90210 zipcode lies in."
   ]
  },
  {
   "cell_type": "code",
   "execution_count": 7,
   "id": "96122c34",
   "metadata": {},
   "outputs": [
    {
     "data": {
      "text/plain": [
       "array(['Alabama'], dtype=object)"
      ]
     },
     "execution_count": 7,
     "metadata": {},
     "output_type": "execute_result"
    }
   ],
   "source": [
    "import pandas as pd\n",
    "df = pd.DataFrame(data={\"PostalCode\": [\"90210\"]})\n",
    "df[\"PostalCode\"] = df[\"PostalCode\"].astype('category')\n",
    "model.predict(df)"
   ]
  },
  {
   "cell_type": "markdown",
   "id": "a5e5185b",
   "metadata": {},
   "source": [
    "The model probably got that answer wrong. But it probably mentioned a state that wasn't in the initial training set: it has learned other state names from related data.\n",
    "\n",
    "If you scroll through the \"secret\" output above, you should see somewhere in the middle a table like this:\n",
    "\n",
    "```\n",
    "total views: 1\n",
    "Dataframe is    PostalCode            Name\n",
    "0       98011      Washington\n",
    "1       97205          Oregon\n",
    "2       55802       Minnesota\n",
    "3       75201           Texas\n",
    "4       94109      California\n",
    "..        ...             ...\n",
    "67      29577  South Carolina\n",
    "68      21201        Maryland\n",
    "69      57000         Moselle\n",
    "70       7001        Tasmania\n",
    "71      78000         Yveline\n",
    "```\n",
    "\n",
    "which shows that DoD component discovered 1 view of the data which looked like our examples. You can see two features which contribute to poor training:\n",
    "* in addition to ZIP codes, DoD found Australian and French postal codes\n",
    "* the discovered joined dataset only had 72 examples of training data\n",
    "\n",
    "If the Data Station had more data and was given more time, DoD would be able to find a much better model: for example, when loaded with some census data and given 15 minutes to train, it produces a model with >90% accuracy."
   ]
  }
 ],
 "metadata": {
  "kernelspec": {
   "display_name": "Python 3",
   "language": "python",
   "name": "python3"
  },
  "language_info": {
   "codemirror_mode": {
    "name": "ipython",
    "version": 3
   },
   "file_extension": ".py",
   "mimetype": "text/x-python",
   "name": "python",
   "nbconvert_exporter": "python",
   "pygments_lexer": "ipython3",
   "version": "3.6.13"
  }
 },
 "nbformat": 4,
 "nbformat_minor": 5
}
