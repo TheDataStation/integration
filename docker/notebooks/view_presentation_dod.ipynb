{
 "cells": [
  {
   "cell_type": "code",
   "execution_count": 1,
   "metadata": {},
   "outputs": [],
   "source": [
    "from presentation_utils import *\n",
    "from DoD import view_4c_analysis_baseline as v4c\n",
    "import glob\n",
    "import pprint"
   ]
  },
  {
   "cell_type": "code",
   "execution_count": 2,
   "metadata": {},
   "outputs": [
    {
     "data": {
      "application/javascript": [
       "IPython.OutputArea.auto_scroll_threshold = 9999;\n"
      ],
      "text/plain": [
       "<IPython.core.display.Javascript object>"
      ]
     },
     "metadata": {},
     "output_type": "display_data"
    }
   ],
   "source": [
    "%%javascript\n",
    "IPython.OutputArea.auto_scroll_threshold = 9999;"
   ]
  },
  {
   "cell_type": "markdown",
   "metadata": {
    "pycharm": {
     "name": "#%% md\n"
    }
   },
   "source": [
    "# Config"
   ]
  },
  {
   "cell_type": "code",
   "execution_count": 3,
   "metadata": {
    "pycharm": {
     "name": "#%%\n"
    }
   },
   "outputs": [],
   "source": [
    "# directory storing the views\n",
    "dir_path = \"./presentation_demo_views/\"\n",
    "# max size of candidate key\n",
    "candidate_key_size = 2\n",
    "# sample rows to present\n",
    "sample_size = 5\n",
    "# exploration / exploitation (choose next pair to present among top_k)\n",
    "top_k = 10\n",
    "# epsilon-greedy\n",
    "epsilon = 0.1\n",
    "\n",
    "max_num_interactions = 100"
   ]
  },
  {
   "cell_type": "markdown",
   "metadata": {
    "pycharm": {
     "name": "#%% md\n"
    }
   },
   "source": [
    "# Run 4C"
   ]
  },
  {
   "cell_type": "code",
   "execution_count": 4,
   "metadata": {
    "pycharm": {
     "name": "#%%\n"
    },
    "scrolled": true
   },
   "outputs": [
    {
     "name": "stdout",
     "output_type": "stream",
     "text": [
      "Running 4C...\n",
      "Found 11 valid tables\n",
      "View candidates classify into 1 groups based on schema\n",
      "\n",
      "Num elements with schema -10669850065081178778 is: 11\n"
     ]
    },
    {
     "name": "stderr",
     "output_type": "stream",
     "text": [
      "100%|██████████| 33/33 [00:01<00:00, 18.35it/s]"
     ]
    },
    {
     "name": "stdout",
     "output_type": "stream",
     "text": [
      "Compatible groups:\n",
      "['./presentation_demo_views/view_0', './presentation_demo_views/view_10']\n",
      "Contained groups:\n",
      "['./presentation_demo_views/view_9', './presentation_demo_views/view_7', './presentation_demo_views/view_1', './presentation_demo_views/view_3']\n",
      "['./presentation_demo_views/view_8', './presentation_demo_views/view_6', './presentation_demo_views/view_0', './presentation_demo_views/view_2']\n",
      "['./presentation_demo_views/view_7', './presentation_demo_views/view_1', './presentation_demo_views/view_3']\n",
      "['./presentation_demo_views/view_6', './presentation_demo_views/view_0', './presentation_demo_views/view_2']\n",
      "['./presentation_demo_views/view_4', './presentation_demo_views/view_0']\n",
      "['./presentation_demo_views/view_5', './presentation_demo_views/view_1']\n",
      "Contradictory groups:\n",
      "['Building Name']: ./presentation_demo_views/view_9 - ./presentation_demo_views/view_8\n",
      "['Building Name']: ./presentation_demo_views/view_7 - ./presentation_demo_views/view_8\n",
      "['Building Name']: ./presentation_demo_views/view_7 - ./presentation_demo_views/view_6\n",
      "['Building Name']: ./presentation_demo_views/view_6 - ./presentation_demo_views/view_9\n",
      "['Building Name']: ./presentation_demo_views/view_4 - ./presentation_demo_views/view_9\n",
      "['Building Name']: ./presentation_demo_views/view_4 - ./presentation_demo_views/view_7\n",
      "['Building Name']: ./presentation_demo_views/view_4 - ./presentation_demo_views/view_5\n",
      "['Building Name']: ./presentation_demo_views/view_5 - ./presentation_demo_views/view_8\n",
      "['Building Name']: ./presentation_demo_views/view_5 - ./presentation_demo_views/view_6\n",
      "['Building Name']: ./presentation_demo_views/view_0 - ./presentation_demo_views/view_9\n",
      "['Building Name']: ./presentation_demo_views/view_0 - ./presentation_demo_views/view_7\n",
      "['Building Name']: ./presentation_demo_views/view_0 - ./presentation_demo_views/view_5\n",
      "['Building Name']: ./presentation_demo_views/view_0 - ./presentation_demo_views/view_1\n",
      "['Building Name']: ./presentation_demo_views/view_0 - ./presentation_demo_views/view_3\n",
      "['Building Name']: ./presentation_demo_views/view_1 - ./presentation_demo_views/view_8\n",
      "['Building Name']: ./presentation_demo_views/view_1 - ./presentation_demo_views/view_6\n",
      "['Building Name']: ./presentation_demo_views/view_1 - ./presentation_demo_views/view_4\n",
      "['Building Name']: ./presentation_demo_views/view_1 - ./presentation_demo_views/view_2\n",
      "['Building Name']: ./presentation_demo_views/view_3 - ./presentation_demo_views/view_8\n",
      "['Building Name']: ./presentation_demo_views/view_3 - ./presentation_demo_views/view_6\n",
      "['Building Name']: ./presentation_demo_views/view_3 - ./presentation_demo_views/view_4\n",
      "['Building Name']: ./presentation_demo_views/view_3 - ./presentation_demo_views/view_2\n",
      "['Building Name']: ./presentation_demo_views/view_2 - ./presentation_demo_views/view_9\n",
      "['Building Name']: ./presentation_demo_views/view_2 - ./presentation_demo_views/view_7\n",
      "['Building Name']: ./presentation_demo_views/view_2 - ./presentation_demo_views/view_5\n",
      "Complementary groups:\n",
      "['Building Room']: ./presentation_demo_views/view_9 - ./presentation_demo_views/view_8\n",
      "['Building Name', 'Building Room']: ./presentation_demo_views/view_9 - ./presentation_demo_views/view_8\n",
      "['Building Room']: ./presentation_demo_views/view_7 - ./presentation_demo_views/view_8\n",
      "['Building Name', 'Building Room']: ./presentation_demo_views/view_7 - ./presentation_demo_views/view_8\n",
      "['Building Room']: ./presentation_demo_views/view_7 - ./presentation_demo_views/view_6\n",
      "['Building Name', 'Building Room']: ./presentation_demo_views/view_7 - ./presentation_demo_views/view_6\n",
      "['Building Room']: ./presentation_demo_views/view_6 - ./presentation_demo_views/view_9\n",
      "['Building Name', 'Building Room']: ./presentation_demo_views/view_6 - ./presentation_demo_views/view_9\n",
      "['Building Room']: ./presentation_demo_views/view_4 - ./presentation_demo_views/view_9\n",
      "['Building Name', 'Building Room']: ./presentation_demo_views/view_4 - ./presentation_demo_views/view_9\n",
      "['Building Room']: ./presentation_demo_views/view_4 - ./presentation_demo_views/view_8\n",
      "['Building Name']: ./presentation_demo_views/view_4 - ./presentation_demo_views/view_8\n",
      "['Building Name', 'Building Room']: ./presentation_demo_views/view_4 - ./presentation_demo_views/view_8\n",
      "['Building Room']: ./presentation_demo_views/view_4 - ./presentation_demo_views/view_7\n",
      "['Building Name', 'Building Room']: ./presentation_demo_views/view_4 - ./presentation_demo_views/view_7\n",
      "['Building Room']: ./presentation_demo_views/view_4 - ./presentation_demo_views/view_6\n",
      "['Building Name']: ./presentation_demo_views/view_4 - ./presentation_demo_views/view_6\n",
      "['Building Name', 'Building Room']: ./presentation_demo_views/view_4 - ./presentation_demo_views/view_6\n",
      "['Building Room']: ./presentation_demo_views/view_4 - ./presentation_demo_views/view_5\n",
      "['Building Name', 'Building Room']: ./presentation_demo_views/view_4 - ./presentation_demo_views/view_5\n",
      "['Building Room']: ./presentation_demo_views/view_5 - ./presentation_demo_views/view_9\n",
      "['Building Name']: ./presentation_demo_views/view_5 - ./presentation_demo_views/view_9\n",
      "['Building Name', 'Building Room']: ./presentation_demo_views/view_5 - ./presentation_demo_views/view_9\n",
      "['Building Room']: ./presentation_demo_views/view_5 - ./presentation_demo_views/view_8\n",
      "['Building Name', 'Building Room']: ./presentation_demo_views/view_5 - ./presentation_demo_views/view_8\n",
      "['Building Room']: ./presentation_demo_views/view_5 - ./presentation_demo_views/view_7\n",
      "['Building Name']: ./presentation_demo_views/view_5 - ./presentation_demo_views/view_7\n",
      "['Building Name', 'Building Room']: ./presentation_demo_views/view_5 - ./presentation_demo_views/view_7\n",
      "['Building Room']: ./presentation_demo_views/view_5 - ./presentation_demo_views/view_6\n",
      "['Building Name', 'Building Room']: ./presentation_demo_views/view_5 - ./presentation_demo_views/view_6\n",
      "['Building Room']: ./presentation_demo_views/view_0 - ./presentation_demo_views/view_9\n",
      "['Building Name', 'Building Room']: ./presentation_demo_views/view_0 - ./presentation_demo_views/view_9\n",
      "['Building Room']: ./presentation_demo_views/view_0 - ./presentation_demo_views/view_7\n",
      "['Building Name', 'Building Room']: ./presentation_demo_views/view_0 - ./presentation_demo_views/view_7\n",
      "['Building Room']: ./presentation_demo_views/view_0 - ./presentation_demo_views/view_5\n",
      "['Building Name', 'Building Room']: ./presentation_demo_views/view_0 - ./presentation_demo_views/view_5\n",
      "['Building Room']: ./presentation_demo_views/view_0 - ./presentation_demo_views/view_1\n",
      "['Building Name', 'Building Room']: ./presentation_demo_views/view_0 - ./presentation_demo_views/view_1\n",
      "['Building Room']: ./presentation_demo_views/view_0 - ./presentation_demo_views/view_3\n",
      "['Building Name', 'Building Room']: ./presentation_demo_views/view_0 - ./presentation_demo_views/view_3\n",
      "['Building Room']: ./presentation_demo_views/view_0 - ./presentation_demo_views/view_2\n",
      "['Building Name']: ./presentation_demo_views/view_0 - ./presentation_demo_views/view_2\n",
      "['Building Name', 'Building Room']: ./presentation_demo_views/view_0 - ./presentation_demo_views/view_2\n",
      "['Building Room']: ./presentation_demo_views/view_1 - ./presentation_demo_views/view_8\n",
      "['Building Name', 'Building Room']: ./presentation_demo_views/view_1 - ./presentation_demo_views/view_8\n",
      "['Building Room']: ./presentation_demo_views/view_1 - ./presentation_demo_views/view_6\n",
      "['Building Name', 'Building Room']: ./presentation_demo_views/view_1 - ./presentation_demo_views/view_6\n",
      "['Building Room']: ./presentation_demo_views/view_1 - ./presentation_demo_views/view_4\n",
      "['Building Name', 'Building Room']: ./presentation_demo_views/view_1 - ./presentation_demo_views/view_4\n",
      "['Building Room']: ./presentation_demo_views/view_1 - ./presentation_demo_views/view_3\n",
      "['Building Name']: ./presentation_demo_views/view_1 - ./presentation_demo_views/view_3\n",
      "['Building Name', 'Building Room']: ./presentation_demo_views/view_1 - ./presentation_demo_views/view_3\n",
      "['Building Room']: ./presentation_demo_views/view_1 - ./presentation_demo_views/view_2\n",
      "['Building Name', 'Building Room']: ./presentation_demo_views/view_1 - ./presentation_demo_views/view_2\n",
      "['Building Room']: ./presentation_demo_views/view_3 - ./presentation_demo_views/view_8\n",
      "['Building Name', 'Building Room']: ./presentation_demo_views/view_3 - ./presentation_demo_views/view_8\n",
      "['Building Room']: ./presentation_demo_views/view_3 - ./presentation_demo_views/view_6\n",
      "['Building Name', 'Building Room']: ./presentation_demo_views/view_3 - ./presentation_demo_views/view_6\n",
      "['Building Room']: ./presentation_demo_views/view_3 - ./presentation_demo_views/view_4\n",
      "['Building Name', 'Building Room']: ./presentation_demo_views/view_3 - ./presentation_demo_views/view_4\n",
      "['Building Room']: ./presentation_demo_views/view_3 - ./presentation_demo_views/view_5\n",
      "['Building Name']: ./presentation_demo_views/view_3 - ./presentation_demo_views/view_5\n",
      "['Building Name', 'Building Room']: ./presentation_demo_views/view_3 - ./presentation_demo_views/view_5\n",
      "['Building Room']: ./presentation_demo_views/view_3 - ./presentation_demo_views/view_2\n",
      "['Building Name', 'Building Room']: ./presentation_demo_views/view_3 - ./presentation_demo_views/view_2\n",
      "['Building Room']: ./presentation_demo_views/view_2 - ./presentation_demo_views/view_9\n",
      "['Building Name', 'Building Room']: ./presentation_demo_views/view_2 - ./presentation_demo_views/view_9\n",
      "['Building Room']: ./presentation_demo_views/view_2 - ./presentation_demo_views/view_7\n",
      "['Building Name', 'Building Room']: ./presentation_demo_views/view_2 - ./presentation_demo_views/view_7\n",
      "['Building Room']: ./presentation_demo_views/view_2 - ./presentation_demo_views/view_4\n",
      "['Building Name']: ./presentation_demo_views/view_2 - ./presentation_demo_views/view_4\n",
      "['Building Name', 'Building Room']: ./presentation_demo_views/view_2 - ./presentation_demo_views/view_4\n",
      "['Building Room']: ./presentation_demo_views/view_2 - ./presentation_demo_views/view_5\n",
      "['Building Name', 'Building Room']: ./presentation_demo_views/view_2 - ./presentation_demo_views/view_5\n"
     ]
    },
    {
     "name": "stderr",
     "output_type": "stream",
     "text": [
      "\n"
     ]
    }
   ],
   "source": [
    "# Run 4C\n",
    "print(\"Running 4C...\")\n",
    "\n",
    "compatible_groups, contained_groups, complementary_groups, contradictory_groups, all_pair_contr_compl = \\\n",
    "    v4c.main(dir_path, candidate_key_size)\n",
    "\n",
    "print(\"Compatible groups:\")\n",
    "for group in compatible_groups:\n",
    "    print(group)\n",
    "\n",
    "print(\"Contained groups:\")\n",
    "for group in contained_groups:\n",
    "    print(group)\n",
    "\n",
    "print(\"Contradictory groups:\")\n",
    "for path1, candidate_key_tuple, key_value_tuples, path2 in contradictory_groups:\n",
    "    print(str(list(candidate_key_tuple)) + \": \" + path1 + \" - \" + path2)\n",
    "\n",
    "print(\"Complementary groups:\")\n",
    "for path1, path2, candidate_key_tuple, _, _ in complementary_groups:\n",
    "    print(str(list(candidate_key_tuple)) + \": \" + path1 + \" - \" + path2)"
   ]
  },
  {
   "cell_type": "markdown",
   "metadata": {
    "pycharm": {
     "name": "#%% md\n"
    }
   },
   "source": [
    "# Pruning 4C views\n",
    "## Remove identical views and keep the contained view with the largest cardinality"
   ]
  },
  {
   "cell_type": "code",
   "execution_count": 5,
   "metadata": {
    "pycharm": {
     "name": "#%%\n"
    }
   },
   "outputs": [
    {
     "name": "stdout",
     "output_type": "stream",
     "text": [
      "Number of views:  11\n",
      "After pruning compatible views:  10\n",
      "After pruning contained views:  6\n"
     ]
    }
   ],
   "source": [
    "view_files = glob.glob(dir_path + \"/view_*\")\n",
    "print(\"Number of views: \", len(view_files))\n",
    "\n",
    "view_files = prune_compatible_views(view_files, compatible_groups)\n",
    "print(\"After pruning compatible views: \", len(view_files))\n",
    "\n",
    "view_files = prune_contained_views(view_files, contained_groups)\n",
    "print(\"After pruning contained views: \", len(view_files))"
   ]
  },
  {
   "cell_type": "markdown",
   "metadata": {
    "pycharm": {
     "name": "#%% md\n"
    }
   },
   "source": [
    "# Pre-processing and generating sample rows to present"
   ]
  },
  {
   "cell_type": "code",
   "execution_count": 6,
   "metadata": {},
   "outputs": [
    {
     "name": "stderr",
     "output_type": "stream",
     "text": [
      "  6%|▌         | 2/33 [00:00<00:02, 13.86it/s]"
     ]
    },
    {
     "name": "stdout",
     "output_type": "stream",
     "text": [
      "Pre-processing...\n"
     ]
    },
    {
     "name": "stderr",
     "output_type": "stream",
     "text": [
      "100%|██████████| 33/33 [00:00<00:00, 45.43it/s]\n"
     ]
    }
   ],
   "source": [
    "print(\"Pre-processing...\")\n",
    "\n",
    "contr_or_compl_view_pairs, non_contr_or_compl_views, row_to_path_dict = preprocess(view_files, all_pair_contr_compl, sample_size)"
   ]
  },
  {
   "cell_type": "markdown",
   "metadata": {
    "pycharm": {
     "name": "#%% md\n"
    }
   },
   "source": [
    "# Actual presentation"
   ]
  },
  {
   "cell_type": "code",
   "execution_count": 7,
   "metadata": {
    "pycharm": {
     "name": "#%%\n"
    }
   },
   "outputs": [
    {
     "data": {
      "application/vnd.jupyter.widget-view+json": {
       "model_id": "fd8166d8e4964f34ae3c47f12d278bf2",
       "version_major": 2,
       "version_minor": 0
      },
      "text/plain": [
       "Output()"
      ]
     },
     "metadata": {},
     "output_type": "display_data"
    }
   ],
   "source": [
    "%gui asyncio\n",
    "# Using asynchronous widgets. Requires ipykernel 4.7 or later\n",
    "# pip install ipython ipykernel --upgrade\n",
    "\n",
    "# async\n",
    "task = present_async(view_files, contr_or_compl_view_pairs, non_contr_or_compl_views, row_to_path_dict,\n",
    "                     top_k, epsilon, max_num_interactions, sample_size)\n",
    "\n",
    "# sync\n",
    "# final_view_scores, num_interactions = present(view_files, contr_or_compl_view_pairs, non_contr_or_compl_views, row_to_path_dict,\n",
    "#                                               top_k, epsilon, max_num_interactions, sample_size)"
   ]
  },
  {
   "cell_type": "markdown",
   "metadata": {
    "pycharm": {
     "name": "#%% md\n"
    }
   },
   "source": [
    "# Final view scores"
   ]
  },
  {
   "cell_type": "code",
   "execution_count": 8,
   "metadata": {
    "pycharm": {
     "name": "#%%\n"
    }
   },
   "outputs": [
    {
     "name": "stdout",
     "output_type": "stream",
     "text": [
      "Final view scores:\n",
      "[('./presentation_demo_views/view_7', 14),\n",
      " ('./presentation_demo_views/view_9', 10),\n",
      " ('./presentation_demo_views/view_5', 4),\n",
      " ('./presentation_demo_views/view_8', 3),\n",
      " ('./presentation_demo_views/view_4', 2),\n",
      " ('./presentation_demo_views/view_6', 1)]\n",
      "Number of interactions = 8\n"
     ]
    }
   ],
   "source": [
    "# async\n",
    "await task\n",
    "final_view_scores, num_interactions = task.result()\n",
    "\n",
    "print(\"Final view scores:\")\n",
    "pprint.pprint(final_view_scores)\n",
    "\n",
    "print(\"Number of interactions = \" + str(num_interactions))"
   ]
  }
 ],
 "metadata": {
  "kernelspec": {
   "display_name": "Python 3",
   "language": "python",
   "name": "python3"
  },
  "language_info": {
   "codemirror_mode": {
    "name": "ipython",
    "version": 3
   },
   "file_extension": ".py",
   "mimetype": "text/x-python",
   "name": "python",
   "nbconvert_exporter": "python",
   "pygments_lexer": "ipython3",
   "version": "3.6.11"
  }
 },
 "nbformat": 4,
 "nbformat_minor": 1
}
