{
 "cells": [
  {
   "cell_type": "code",
   "execution_count": 17,
   "id": "84a179f5",
   "metadata": {},
   "outputs": [],
   "source": [
    "import test_dod_integ"
   ]
  },
  {
   "cell_type": "markdown",
   "id": "8c5a4d69",
   "metadata": {},
   "source": [
    "I'm going to ask the Data Station to make me a predictive model for converting US Zip codes to State names.\n",
    "\n",
    "I'll start with a small example of the mappings I want it to give me:"
   ]
  },
  {
   "cell_type": "code",
   "execution_count": 20,
   "id": "eac87627",
   "metadata": {},
   "outputs": [],
   "source": [
    "examples = [[\"98011\", \"California\"], [\"32804\", \"Florida\"]]"
   ]
  },
  {
   "cell_type": "markdown",
   "id": "55749a68",
   "metadata": {},
   "source": [
    "The Data Station already knows about the Adventure Works dataset, which describes the operations of a company in about 60 different spreadsheets.\n",
    "\n",
    "I will ask the Data Station to generate a model for me based on the above examples:"
   ]
  },
  {
   "cell_type": "code",
   "execution_count": 19,
   "id": "7b679f92",
   "metadata": {
    "scrolled": false
   },
   "outputs": [
    {
     "name": "stdout",
     "output_type": "stream",
     "text": [
      "\n",
      "                    ######################################################################\n",
      "                    #                  Begin Join Path Enumeration                       #\n",
      "                    #    Find all join paths between every pair of candidate tables      #\n",
      "                    #    based on Aurum API. (No known PK/FK relationships, depend on    #\n",
      "                    #    inclusion dependency to discover approximate PK/FK)       f      #  \n",
      "                    ######################################################################\n",
      "        \n",
      "BENC5: table Address.csv\n",
      "BENC5: table StateProvince.csv\n",
      "\n",
      "(B)Candidate group: ['Address.csv', 'StateProvince.csv']\n",
      "Covers #Filters: 2\n",
      "\n",
      "Finding paths between Address.csv and StateProvince.csv\n",
      "max hops: 2\n",
      "Total time: 0.017870187759399414\n",
      "Total paths: 1\n",
      "Total join graphs: 1\n",
      "Finished enumerating groups\n",
      "\n",
      "                        ######################################################################\n",
      "                        #                  Begin to rate all join paths                      #\n",
      "                        #                   We prefer join paths that                        #\n",
      "                        #                   1. More likely to be PK/FK path                  #\n",
      "                        #                   2. Use fewer join key                            #\n",
      "                        ######################################################################\n",
      "                            \n",
      "total join graphs 1\n",
      "\n",
      "                        ######################################################################\n",
      "                        #      Finish Rating and Ranking, Begin Materializing Join Paths     #\n",
      "                        ######################################################################\n",
      "                    \n",
      "Materialized Join Path\n",
      "Address.csv.StateProvinceID JOIN StateProvince.csv.StateProvinceID\n",
      "total views: 1\n",
      "BENC: parsing task capsule\n",
      "BENC: in parse_task_capsule\n",
      "BENC: task capsule init\n",
      "BENC TabularData load\n",
      "BENC: setting column PostalCode to category\n",
      "BENC: setting column Name to category\n",
      "Dataframe is    PostalCode               Name\n",
      "0       98011         Washington\n",
      "1       97205             Oregon\n",
      "2       55802          Minnesota\n",
      "3       75201              Texas\n",
      "4       94109         California\n",
      "..        ...                ...\n",
      "69      57000            Moselle\n",
      "70       7001           Tasmania\n",
      "71      78000            Yveline\n",
      "72      17490  Charente-Maritime\n",
      "73      80610              Somme\n",
      "\n",
      "[74 rows x 2 columns]\n",
      "Dataframe types are PostalCode    category\n",
      "Name          category\n",
      "dtype: object\n",
      "BENC: done with parse_task_capsule (finally block)\n",
      "BENC: finished parsing task capsule\n",
      "getting training data\n",
      "BENC: task.get_data\n",
      "BENC: path 1\n",
      "BENC: type of df is <class 'pandas.core.frame.DataFrame'>\n",
      "BENC split_df_X_y, type of X <class 'pandas.core.frame.DataFrame'>\n",
      "BENC split_df_X_y, type of df <class 'pandas.core.frame.DataFrame'>\n",
      "BENC: get split, type of X <class 'pandas.core.frame.DataFrame'>, type of X_train <class 'pandas.core.frame.DataFrame'>\n",
      "BENC: get_train_data, types are: xtrain: PostalCode    category\n",
      "dtype: object, ytrain: category\n",
      "starting classification\n",
      "[WARNING] [2021-04-07 15:28:37,602:Client-EnsembleBuilder] No models better than random - using Dummy Score!Number of models besides current dummy model: 1. Number of dummy models: 1\n",
      "[WARNING] [2021-04-07 15:28:38,321:Client-EnsembleBuilder] No models better than random - using Dummy Score!Number of models besides current dummy model: 1. Number of dummy models: 1\n",
      "[WARNING] [2021-04-07 15:28:39,118:Client-EnsembleBuilder] No models better than random - using Dummy Score!Number of models besides current dummy model: 1. Number of dummy models: 1\n",
      "[WARNING] [2021-04-07 15:28:39,987:Client-EnsembleBuilder] No models better than random - using Dummy Score!Number of models besides current dummy model: 2. Number of dummy models: 1\n",
      "[WARNING] [2021-04-07 15:28:47,072:Client-EnsembleBuilder] No models better than random - using Dummy Score!Number of models besides current dummy model: 2. Number of dummy models: 1\n",
      "[WARNING] [2021-04-07 15:28:47,974:Client-EnsembleBuilder] No models better than random - using Dummy Score!Number of models besides current dummy model: 3. Number of dummy models: 1\n",
      "[WARNING] [2021-04-07 15:28:48,844:Client-EnsembleBuilder] No models better than random - using Dummy Score!Number of models besides current dummy model: 4. Number of dummy models: 1\n",
      "[WARNING] [2021-04-07 15:28:49,652:Client-EnsembleBuilder] No models better than random - using Dummy Score!Number of models besides current dummy model: 4. Number of dummy models: 1\n",
      "[WARNING] [2021-04-07 15:28:50,691:Client-EnsembleBuilder] No models better than random - using Dummy Score!Number of models besides current dummy model: 5. Number of dummy models: 1\n",
      "[WARNING] [2021-04-07 15:28:51,480:Client-EnsembleBuilder] No models better than random - using Dummy Score!Number of models besides current dummy model: 6. Number of dummy models: 1\n",
      "[WARNING] [2021-04-07 15:28:52,182:Client-EnsembleBuilder] No models better than random - using Dummy Score!Number of models besides current dummy model: 6. Number of dummy models: 1\n",
      "[WARNING] [2021-04-07 15:28:52,973:Client-EnsembleBuilder] No models better than random - using Dummy Score!Number of models besides current dummy model: 6. Number of dummy models: 1\n",
      "[WARNING] [2021-04-07 15:28:53,670:Client-EnsembleBuilder] No models better than random - using Dummy Score!Number of models besides current dummy model: 6. Number of dummy models: 1\n",
      "[WARNING] [2021-04-07 15:28:54,432:Client-EnsembleBuilder] No models better than random - using Dummy Score!Number of models besides current dummy model: 7. Number of dummy models: 1\n",
      "[WARNING] [2021-04-07 15:28:55,204:Client-EnsembleBuilder] No models better than random - using Dummy Score!Number of models besides current dummy model: 7. Number of dummy models: 1\n",
      "[WARNING] [2021-04-07 15:28:56,143:Client-EnsembleBuilder] No models better than random - using Dummy Score!Number of models besides current dummy model: 8. Number of dummy models: 1\n",
      "[WARNING] [2021-04-07 15:28:57,092:Client-EnsembleBuilder] No models better than random - using Dummy Score!Number of models besides current dummy model: 9. Number of dummy models: 1\n",
      "[WARNING] [2021-04-07 15:28:57,872:Client-EnsembleBuilder] No models better than random - using Dummy Score!Number of models besides current dummy model: 10. Number of dummy models: 1\n",
      "[WARNING] [2021-04-07 15:28:58,644:Client-EnsembleBuilder] No models better than random - using Dummy Score!Number of models besides current dummy model: 10. Number of dummy models: 1\n",
      "[WARNING] [2021-04-07 15:28:59,361:Client-EnsembleBuilder] No models better than random - using Dummy Score!Number of models besides current dummy model: 10. Number of dummy models: 1\n",
      "[WARNING] [2021-04-07 15:29:00,049:Client-EnsembleBuilder] No models better than random - using Dummy Score!Number of models besides current dummy model: 10. Number of dummy models: 1\n",
      "[WARNING] [2021-04-07 15:29:00,832:Client-EnsembleBuilder] No models better than random - using Dummy Score!Number of models besides current dummy model: 10. Number of dummy models: 1\n",
      "[WARNING] [2021-04-07 15:29:01,686:Client-EnsembleBuilder] No models better than random - using Dummy Score!Number of models besides current dummy model: 11. Number of dummy models: 1\n",
      "[WARNING] [2021-04-07 15:29:02,379:Client-EnsembleBuilder] No models better than random - using Dummy Score!Number of models besides current dummy model: 11. Number of dummy models: 1\n",
      "[WARNING] [2021-04-07 15:29:03,894:Client-EnsembleBuilder] No models better than random - using Dummy Score!Number of models besides current dummy model: 12. Number of dummy models: 1\n",
      "[WARNING] [2021-04-07 15:29:10,956:Client-EnsembleBuilder] No models better than random - using Dummy Score!Number of models besides current dummy model: 12. Number of dummy models: 1\n",
      "[WARNING] [2021-04-07 15:29:15,834:Client-EnsembleBuilder] No models better than random - using Dummy Score!Number of models besides current dummy model: 12. Number of dummy models: 1\n"
     ]
    },
    {
     "name": "stdout",
     "output_type": "stream",
     "text": [
      "[WARNING] [2021-04-07 15:29:20,701:Client-EnsembleBuilder] No models better than random - using Dummy Score!Number of models besides current dummy model: 12. Number of dummy models: 1\n",
      "[WARNING] [2021-04-07 15:29:23,043:Client-EnsembleBuilder] No models better than random - using Dummy Score!Number of models besides current dummy model: 12. Number of dummy models: 1\n",
      "done with classification\n",
      "classifier is built\n",
      "BENC: get_train_data, types are: xtrain: PostalCode    category\n",
      "dtype: object, ytrain: category\n",
      "Classifier accuracy: 0.01694915254237288\n",
      "test finished with accuracy 0.01694915254237288\n"
     ]
    }
   ],
   "source": [
    "model = test_dod_integ.get_model_by_example(examples)"
   ]
  },
  {
   "cell_type": "markdown",
   "id": "ebb3be9e",
   "metadata": {},
   "source": [
    "Now I have a model that behaves like any other scikit-learn model:"
   ]
  },
  {
   "cell_type": "code",
   "execution_count": 6,
   "id": "fd6af62e",
   "metadata": {},
   "outputs": [
    {
     "data": {
      "text/plain": [
       "AutoSklearnClassifier(per_run_time_limit=6, time_left_for_this_task=60)"
      ]
     },
     "execution_count": 6,
     "metadata": {},
     "output_type": "execute_result"
    }
   ],
   "source": [
    "model"
   ]
  },
  {
   "cell_type": "markdown",
   "id": "161aa24f",
   "metadata": {},
   "source": [
    "and I can ask it to predict the state that it thinks zip code 90210 is in:"
   ]
  },
  {
   "cell_type": "code",
   "execution_count": 16,
   "id": "927ae20e",
   "metadata": {},
   "outputs": [
    {
     "data": {
      "text/plain": [
       "array(['Alberta'], dtype=object)"
      ]
     },
     "execution_count": 16,
     "metadata": {},
     "output_type": "execute_result"
    }
   ],
   "source": [
    "import pandas as pd\n",
    "df = pd.DataFrame(data={\"PostalCode\": [\"90210\"]})\n",
    "df[\"PostalCode\"] = df[\"PostalCode\"].astype('category')\n",
    "model.predict(df)"
   ]
  },
  {
   "cell_type": "markdown",
   "id": "09a6b7af",
   "metadata": {},
   "source": [
    "HAHA! it's (probably) WRONG!"
   ]
  },
  {
   "cell_type": "code",
   "execution_count": null,
   "id": "12602d9c",
   "metadata": {},
   "outputs": [],
   "source": []
  }
 ],
 "metadata": {
  "kernelspec": {
   "display_name": "Python 3",
   "language": "python",
   "name": "python3"
  },
  "language_info": {
   "codemirror_mode": {
    "name": "ipython",
    "version": 3
   },
   "file_extension": ".py",
   "mimetype": "text/x-python",
   "name": "python",
   "nbconvert_exporter": "python",
   "pygments_lexer": "ipython3",
   "version": "3.6.13"
  }
 },
 "nbformat": 4,
 "nbformat_minor": 5
}
